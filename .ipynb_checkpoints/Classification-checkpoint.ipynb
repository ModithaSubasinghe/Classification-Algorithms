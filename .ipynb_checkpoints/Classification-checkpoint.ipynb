{
 "cells": [
  {
   "cell_type": "code",
   "execution_count": 1,
   "metadata": {},
   "outputs": [],
   "source": [
    "import pandas as pd\n",
    "import numpy as np\n",
    "import openml\n",
    "from sklearn.preprocessing import LabelEncoder \n",
    "from sklearn.preprocessing import MinMaxScaler\n",
    "from sklearn.neighbors import KNeighborsClassifier\n",
    "from sklearn.discriminant_analysis import LinearDiscriminantAnalysis\n",
    "from sklearn.naive_bayes import GaussianNB\n",
    "from sklearn.linear_model import LogisticRegression\n",
    "from sklearn.svm import SVC\n",
    "from sklearn.ensemble import RandomForestClassifier\n",
    "from sklearn.model_selection import KFold,GridSearchCV\n",
    "from sklearn.metrics import f1_score, make_scorer\n",
    "import time"
   ]
  },
  {
   "cell_type": "markdown",
   "metadata": {},
   "source": [
    "# Classification for Iris Dataset"
   ]
  },
  {
   "cell_type": "code",
   "execution_count": 2,
   "metadata": {
    "pycharm": {
     "is_executing": true
    }
   },
   "outputs": [
    {
     "data": {
      "text/html": [
       "<div>\n",
       "<style scoped>\n",
       "    .dataframe tbody tr th:only-of-type {\n",
       "        vertical-align: middle;\n",
       "    }\n",
       "\n",
       "    .dataframe tbody tr th {\n",
       "        vertical-align: top;\n",
       "    }\n",
       "\n",
       "    .dataframe thead th {\n",
       "        text-align: right;\n",
       "    }\n",
       "</style>\n",
       "<table border=\"1\" class=\"dataframe\">\n",
       "  <thead>\n",
       "    <tr style=\"text-align: right;\">\n",
       "      <th></th>\n",
       "      <th>sepallength</th>\n",
       "      <th>sepalwidth</th>\n",
       "      <th>petallength</th>\n",
       "      <th>petalwidth</th>\n",
       "      <th>class</th>\n",
       "    </tr>\n",
       "  </thead>\n",
       "  <tbody>\n",
       "    <tr>\n",
       "      <th>0</th>\n",
       "      <td>5.1</td>\n",
       "      <td>3.5</td>\n",
       "      <td>1.4</td>\n",
       "      <td>0.2</td>\n",
       "      <td>Iris-setosa</td>\n",
       "    </tr>\n",
       "    <tr>\n",
       "      <th>1</th>\n",
       "      <td>4.9</td>\n",
       "      <td>3.0</td>\n",
       "      <td>1.4</td>\n",
       "      <td>0.2</td>\n",
       "      <td>Iris-setosa</td>\n",
       "    </tr>\n",
       "    <tr>\n",
       "      <th>2</th>\n",
       "      <td>4.7</td>\n",
       "      <td>3.2</td>\n",
       "      <td>1.3</td>\n",
       "      <td>0.2</td>\n",
       "      <td>Iris-setosa</td>\n",
       "    </tr>\n",
       "    <tr>\n",
       "      <th>3</th>\n",
       "      <td>4.6</td>\n",
       "      <td>3.1</td>\n",
       "      <td>1.5</td>\n",
       "      <td>0.2</td>\n",
       "      <td>Iris-setosa</td>\n",
       "    </tr>\n",
       "    <tr>\n",
       "      <th>4</th>\n",
       "      <td>5.0</td>\n",
       "      <td>3.6</td>\n",
       "      <td>1.4</td>\n",
       "      <td>0.2</td>\n",
       "      <td>Iris-setosa</td>\n",
       "    </tr>\n",
       "    <tr>\n",
       "      <th>...</th>\n",
       "      <td>...</td>\n",
       "      <td>...</td>\n",
       "      <td>...</td>\n",
       "      <td>...</td>\n",
       "      <td>...</td>\n",
       "    </tr>\n",
       "    <tr>\n",
       "      <th>145</th>\n",
       "      <td>6.7</td>\n",
       "      <td>3.0</td>\n",
       "      <td>5.2</td>\n",
       "      <td>2.3</td>\n",
       "      <td>Iris-virginica</td>\n",
       "    </tr>\n",
       "    <tr>\n",
       "      <th>146</th>\n",
       "      <td>6.3</td>\n",
       "      <td>2.5</td>\n",
       "      <td>5.0</td>\n",
       "      <td>1.9</td>\n",
       "      <td>Iris-virginica</td>\n",
       "    </tr>\n",
       "    <tr>\n",
       "      <th>147</th>\n",
       "      <td>6.5</td>\n",
       "      <td>3.0</td>\n",
       "      <td>5.2</td>\n",
       "      <td>2.0</td>\n",
       "      <td>Iris-virginica</td>\n",
       "    </tr>\n",
       "    <tr>\n",
       "      <th>148</th>\n",
       "      <td>6.2</td>\n",
       "      <td>3.4</td>\n",
       "      <td>5.4</td>\n",
       "      <td>2.3</td>\n",
       "      <td>Iris-virginica</td>\n",
       "    </tr>\n",
       "    <tr>\n",
       "      <th>149</th>\n",
       "      <td>5.9</td>\n",
       "      <td>3.0</td>\n",
       "      <td>5.1</td>\n",
       "      <td>1.8</td>\n",
       "      <td>Iris-virginica</td>\n",
       "    </tr>\n",
       "  </tbody>\n",
       "</table>\n",
       "<p>150 rows × 5 columns</p>\n",
       "</div>"
      ],
      "text/plain": [
       "     sepallength  sepalwidth  petallength  petalwidth           class\n",
       "0            5.1         3.5          1.4         0.2     Iris-setosa\n",
       "1            4.9         3.0          1.4         0.2     Iris-setosa\n",
       "2            4.7         3.2          1.3         0.2     Iris-setosa\n",
       "3            4.6         3.1          1.5         0.2     Iris-setosa\n",
       "4            5.0         3.6          1.4         0.2     Iris-setosa\n",
       "..           ...         ...          ...         ...             ...\n",
       "145          6.7         3.0          5.2         2.3  Iris-virginica\n",
       "146          6.3         2.5          5.0         1.9  Iris-virginica\n",
       "147          6.5         3.0          5.2         2.0  Iris-virginica\n",
       "148          6.2         3.4          5.4         2.3  Iris-virginica\n",
       "149          5.9         3.0          5.1         1.8  Iris-virginica\n",
       "\n",
       "[150 rows x 5 columns]"
      ]
     },
     "execution_count": 2,
     "metadata": {},
     "output_type": "execute_result"
    }
   ],
   "source": [
    "iris = openml.datasets.get_dataset(\"iris\")\n",
    "iris_df, iris_label, categorical_indicator, attribute_names = iris.get_data(\n",
    "    target=iris.default_target_attribute, dataset_format=\"dataframe\"\n",
    ")\n",
    "iris_df[\"class\"]=iris_label\n",
    "iris_x=iris_df.iloc[:,:4]\n",
    "iris_df"
   ]
  },
  {
   "cell_type": "code",
   "execution_count": 3,
   "metadata": {},
   "outputs": [
    {
     "name": "stdout",
     "output_type": "stream",
     "text": [
      "<class 'pandas.core.frame.DataFrame'>\n",
      "RangeIndex: 150 entries, 0 to 149\n",
      "Data columns (total 5 columns):\n",
      " #   Column       Non-Null Count  Dtype   \n",
      "---  ------       --------------  -----   \n",
      " 0   sepallength  150 non-null    float64 \n",
      " 1   sepalwidth   150 non-null    float64 \n",
      " 2   petallength  150 non-null    float64 \n",
      " 3   petalwidth   150 non-null    float64 \n",
      " 4   class        150 non-null    category\n",
      "dtypes: category(1), float64(4)\n",
      "memory usage: 5.1 KB\n"
     ]
    }
   ],
   "source": [
    "iris_df.info()"
   ]
  },
  {
   "cell_type": "code",
   "execution_count": 4,
   "metadata": {},
   "outputs": [
    {
     "data": {
      "text/plain": [
       "Iris-setosa        50\n",
       "Iris-versicolor    50\n",
       "Iris-virginica     50\n",
       "Name: class, dtype: int64"
      ]
     },
     "execution_count": 4,
     "metadata": {},
     "output_type": "execute_result"
    }
   ],
   "source": [
    "iris_df[\"class\"].value_counts()"
   ]
  },
  {
   "cell_type": "code",
   "execution_count": 5,
   "metadata": {},
   "outputs": [],
   "source": [
    "le=LabelEncoder()\n",
    "\n",
    "iris_y=le.fit_transform(iris_label)"
   ]
  },
  {
   "cell_type": "code",
   "execution_count": 6,
   "metadata": {},
   "outputs": [],
   "source": [
    "scaler = MinMaxScaler()\n",
    "\n",
    "iris_x_scaled=scaler.fit_transform(iris_x)"
   ]
  },
  {
   "cell_type": "code",
   "execution_count": 7,
   "metadata": {},
   "outputs": [],
   "source": [
    "def clasification(model,parameters,x,y):\n",
    "    \n",
    "    classification_df=pd.DataFrame({\"Model\":[],\n",
    "                                    \"Random State\":[],\n",
    "                                    \"Best Parameters\":[],\n",
    "                                    \"Best Score\":[],\n",
    "                                    \"Execution Time\":[],\n",
    "                                    \"f1 score\":[]})\n",
    "    for i in range(1,11):\n",
    "        start_time = time.time()\n",
    "        cv_inner = KFold(n_splits=5, shuffle=True, random_state=i)\n",
    "        score = ['accuracy' ,'f1_macro']\n",
    "        grid_search = GridSearchCV(model, parameters, cv=cv_inner, scoring=score, refit='accuracy', n_jobs = -1)\n",
    "        grid_result = grid_search.fit(x,y)\n",
    "        f1_score = grid_result.cv_results_['mean_test_f1_macro']\n",
    "        execution_time = time.time() - start_time\n",
    "        print(\"Best: %f using %s and Execution time is : %f\"% (grid_result.best_score_, grid_result.best_params_,execution_time))\n",
    "        classification_df=classification_df.append({\"Model\":model,\n",
    "                                                    \"Random State\":i,\n",
    "                                                    \"Best Parameters\":grid_result.best_params_,\n",
    "                                                    \"Best Score\":grid_result.best_score_,\n",
    "                                                    \"Execution Time\":execution_time,\n",
    "                                                    \"f1 score\":f1_score},ignore_index=True)\n",
    "         \n",
    "       \n",
    "    if model == KNC:\n",
    "        classification_df.to_csv(\"Iris_KNC.csv\")\n",
    "    elif model == LDA:\n",
    "        classification_df.to_csv(\"Iris_LDA.csv\")\n",
    "    elif model == GNB:\n",
    "        classification_df.to_csv(\"Iris_GNB.csv\")\n",
    "    elif model == s_v_c:\n",
    "        classification_df.to_csv(\"Iris_SVC.csv\")\n",
    "    elif model == LR:\n",
    "        classification_df.to_csv(\"Iris_LR.csv\")\n",
    "    elif model == RF:\n",
    "        classification_df.to_csv(\"Iris_RF.csv\")\n",
    "\n",
    "\n",
    "    return classification_df\n",
    "    "
   ]
  },
  {
   "cell_type": "markdown",
   "metadata": {},
   "source": [
    "## K-nearest neighbour classification"
   ]
  },
  {
   "cell_type": "code",
   "execution_count": 10,
   "metadata": {},
   "outputs": [],
   "source": [
    "KNC = KNeighborsClassifier()\n",
    "\n",
    "KNC_grid = {\"n_neighbors\":range(1, 21),\n",
    "           \"weights\":['uniform', 'distance'],\n",
    "           \"metric\":['manhattan','euclidean', 'minkowski']}"
   ]
  },
  {
   "cell_type": "code",
   "execution_count": 11,
   "metadata": {},
   "outputs": [
    {
     "name": "stdout",
     "output_type": "stream",
     "text": [
      "Best: 0.973333 using {'metric': 'euclidean', 'n_neighbors': 9, 'weights': 'uniform'} and Execution time is : 0.962328\n",
      "Best: 0.966667 using {'metric': 'euclidean', 'n_neighbors': 6, 'weights': 'uniform'} and Execution time is : 0.998794\n",
      "Best: 0.966667 using {'metric': 'euclidean', 'n_neighbors': 6, 'weights': 'uniform'} and Execution time is : 0.952480\n",
      "Best: 0.973333 using {'metric': 'euclidean', 'n_neighbors': 14, 'weights': 'uniform'} and Execution time is : 0.959081\n",
      "Best: 0.973333 using {'metric': 'euclidean', 'n_neighbors': 14, 'weights': 'uniform'} and Execution time is : 0.964186\n",
      "Best: 0.966667 using {'metric': 'euclidean', 'n_neighbors': 5, 'weights': 'uniform'} and Execution time is : 0.887399\n",
      "Best: 0.966667 using {'metric': 'euclidean', 'n_neighbors': 2, 'weights': 'uniform'} and Execution time is : 0.978752\n",
      "Best: 0.966667 using {'metric': 'euclidean', 'n_neighbors': 6, 'weights': 'uniform'} and Execution time is : 0.942374\n",
      "Best: 0.966667 using {'metric': 'manhattan', 'n_neighbors': 18, 'weights': 'uniform'} and Execution time is : 1.108416\n",
      "Best: 0.960000 using {'metric': 'euclidean', 'n_neighbors': 6, 'weights': 'uniform'} and Execution time is : 1.018761\n"
     ]
    },
    {
     "data": {
      "text/html": [
       "<div>\n",
       "<style scoped>\n",
       "    .dataframe tbody tr th:only-of-type {\n",
       "        vertical-align: middle;\n",
       "    }\n",
       "\n",
       "    .dataframe tbody tr th {\n",
       "        vertical-align: top;\n",
       "    }\n",
       "\n",
       "    .dataframe thead th {\n",
       "        text-align: right;\n",
       "    }\n",
       "</style>\n",
       "<table border=\"1\" class=\"dataframe\">\n",
       "  <thead>\n",
       "    <tr style=\"text-align: right;\">\n",
       "      <th></th>\n",
       "      <th>Model</th>\n",
       "      <th>Random State</th>\n",
       "      <th>Best Parameters</th>\n",
       "      <th>Best Score</th>\n",
       "      <th>Execution Time</th>\n",
       "      <th>f1 score</th>\n",
       "    </tr>\n",
       "  </thead>\n",
       "  <tbody>\n",
       "    <tr>\n",
       "      <th>0</th>\n",
       "      <td>KNeighborsClassifier()</td>\n",
       "      <td>1.0</td>\n",
       "      <td>{'metric': 'euclidean', 'n_neighbors': 9, 'wei...</td>\n",
       "      <td>0.973333</td>\n",
       "      <td>0.962328</td>\n",
       "      <td>[0.9221037336254728, 0.9221037336254728, 0.928...</td>\n",
       "    </tr>\n",
       "    <tr>\n",
       "      <th>1</th>\n",
       "      <td>KNeighborsClassifier()</td>\n",
       "      <td>2.0</td>\n",
       "      <td>{'metric': 'euclidean', 'n_neighbors': 6, 'wei...</td>\n",
       "      <td>0.966667</td>\n",
       "      <td>0.998794</td>\n",
       "      <td>[0.9401705761969593, 0.9401705761969593, 0.931...</td>\n",
       "    </tr>\n",
       "    <tr>\n",
       "      <th>2</th>\n",
       "      <td>KNeighborsClassifier()</td>\n",
       "      <td>3.0</td>\n",
       "      <td>{'metric': 'euclidean', 'n_neighbors': 6, 'wei...</td>\n",
       "      <td>0.966667</td>\n",
       "      <td>0.952480</td>\n",
       "      <td>[0.9384541910331384, 0.9384541910331384, 0.938...</td>\n",
       "    </tr>\n",
       "    <tr>\n",
       "      <th>3</th>\n",
       "      <td>KNeighborsClassifier()</td>\n",
       "      <td>4.0</td>\n",
       "      <td>{'metric': 'euclidean', 'n_neighbors': 14, 'we...</td>\n",
       "      <td>0.973333</td>\n",
       "      <td>0.959081</td>\n",
       "      <td>[0.9308426681677456, 0.9308426681677456, 0.942...</td>\n",
       "    </tr>\n",
       "    <tr>\n",
       "      <th>4</th>\n",
       "      <td>KNeighborsClassifier()</td>\n",
       "      <td>5.0</td>\n",
       "      <td>{'metric': 'euclidean', 'n_neighbors': 14, 'we...</td>\n",
       "      <td>0.973333</td>\n",
       "      <td>0.964186</td>\n",
       "      <td>[0.9471420500151151, 0.9471420500151151, 0.960...</td>\n",
       "    </tr>\n",
       "    <tr>\n",
       "      <th>5</th>\n",
       "      <td>KNeighborsClassifier()</td>\n",
       "      <td>6.0</td>\n",
       "      <td>{'metric': 'euclidean', 'n_neighbors': 5, 'wei...</td>\n",
       "      <td>0.966667</td>\n",
       "      <td>0.887399</td>\n",
       "      <td>[0.9403688419685189, 0.9403688419685189, 0.945...</td>\n",
       "    </tr>\n",
       "    <tr>\n",
       "      <th>6</th>\n",
       "      <td>KNeighborsClassifier()</td>\n",
       "      <td>7.0</td>\n",
       "      <td>{'metric': 'euclidean', 'n_neighbors': 2, 'wei...</td>\n",
       "      <td>0.966667</td>\n",
       "      <td>0.978752</td>\n",
       "      <td>[0.9416315383514199, 0.9416315383514199, 0.955...</td>\n",
       "    </tr>\n",
       "    <tr>\n",
       "      <th>7</th>\n",
       "      <td>KNeighborsClassifier()</td>\n",
       "      <td>8.0</td>\n",
       "      <td>{'metric': 'euclidean', 'n_neighbors': 6, 'wei...</td>\n",
       "      <td>0.966667</td>\n",
       "      <td>0.942374</td>\n",
       "      <td>[0.9409770067505967, 0.9409770067505967, 0.953...</td>\n",
       "    </tr>\n",
       "    <tr>\n",
       "      <th>8</th>\n",
       "      <td>KNeighborsClassifier()</td>\n",
       "      <td>9.0</td>\n",
       "      <td>{'metric': 'manhattan', 'n_neighbors': 18, 'we...</td>\n",
       "      <td>0.966667</td>\n",
       "      <td>1.108416</td>\n",
       "      <td>[0.9388938790677919, 0.9388938790677919, 0.952...</td>\n",
       "    </tr>\n",
       "    <tr>\n",
       "      <th>9</th>\n",
       "      <td>KNeighborsClassifier()</td>\n",
       "      <td>10.0</td>\n",
       "      <td>{'metric': 'euclidean', 'n_neighbors': 6, 'wei...</td>\n",
       "      <td>0.960000</td>\n",
       "      <td>1.018761</td>\n",
       "      <td>[0.9305542939583861, 0.9305542939583861, 0.941...</td>\n",
       "    </tr>\n",
       "  </tbody>\n",
       "</table>\n",
       "</div>"
      ],
      "text/plain": [
       "                    Model  Random State  \\\n",
       "0  KNeighborsClassifier()           1.0   \n",
       "1  KNeighborsClassifier()           2.0   \n",
       "2  KNeighborsClassifier()           3.0   \n",
       "3  KNeighborsClassifier()           4.0   \n",
       "4  KNeighborsClassifier()           5.0   \n",
       "5  KNeighborsClassifier()           6.0   \n",
       "6  KNeighborsClassifier()           7.0   \n",
       "7  KNeighborsClassifier()           8.0   \n",
       "8  KNeighborsClassifier()           9.0   \n",
       "9  KNeighborsClassifier()          10.0   \n",
       "\n",
       "                                     Best Parameters  Best Score  \\\n",
       "0  {'metric': 'euclidean', 'n_neighbors': 9, 'wei...    0.973333   \n",
       "1  {'metric': 'euclidean', 'n_neighbors': 6, 'wei...    0.966667   \n",
       "2  {'metric': 'euclidean', 'n_neighbors': 6, 'wei...    0.966667   \n",
       "3  {'metric': 'euclidean', 'n_neighbors': 14, 'we...    0.973333   \n",
       "4  {'metric': 'euclidean', 'n_neighbors': 14, 'we...    0.973333   \n",
       "5  {'metric': 'euclidean', 'n_neighbors': 5, 'wei...    0.966667   \n",
       "6  {'metric': 'euclidean', 'n_neighbors': 2, 'wei...    0.966667   \n",
       "7  {'metric': 'euclidean', 'n_neighbors': 6, 'wei...    0.966667   \n",
       "8  {'metric': 'manhattan', 'n_neighbors': 18, 'we...    0.966667   \n",
       "9  {'metric': 'euclidean', 'n_neighbors': 6, 'wei...    0.960000   \n",
       "\n",
       "   Execution Time                                           f1 score  \n",
       "0        0.962328  [0.9221037336254728, 0.9221037336254728, 0.928...  \n",
       "1        0.998794  [0.9401705761969593, 0.9401705761969593, 0.931...  \n",
       "2        0.952480  [0.9384541910331384, 0.9384541910331384, 0.938...  \n",
       "3        0.959081  [0.9308426681677456, 0.9308426681677456, 0.942...  \n",
       "4        0.964186  [0.9471420500151151, 0.9471420500151151, 0.960...  \n",
       "5        0.887399  [0.9403688419685189, 0.9403688419685189, 0.945...  \n",
       "6        0.978752  [0.9416315383514199, 0.9416315383514199, 0.955...  \n",
       "7        0.942374  [0.9409770067505967, 0.9409770067505967, 0.953...  \n",
       "8        1.108416  [0.9388938790677919, 0.9388938790677919, 0.952...  \n",
       "9        1.018761  [0.9305542939583861, 0.9305542939583861, 0.941...  "
      ]
     },
     "execution_count": 11,
     "metadata": {},
     "output_type": "execute_result"
    }
   ],
   "source": [
    "clasification(KNC,KNC_grid,iris_x_scaled,iris_y)"
   ]
  },
  {
   "cell_type": "markdown",
   "metadata": {},
   "source": [
    "## Linear discriminant analysis "
   ]
  },
  {
   "cell_type": "code",
   "execution_count": null,
   "metadata": {},
   "outputs": [],
   "source": [
    "LDA = LinearDiscriminantAnalysis()\n",
    "\n",
    "LDA_grid = {\"n_components\": list(range(1,3,1)),\n",
    "           \"solver\":['lsqr','eigen','svd']}"
   ]
  },
  {
   "cell_type": "code",
   "execution_count": null,
   "metadata": {
    "scrolled": true
   },
   "outputs": [],
   "source": [
    "clasification(LDA,LDA_grid,iris_x_scaled,iris_y)"
   ]
  },
  {
   "cell_type": "markdown",
   "metadata": {},
   "source": [
    "## Naïve Bayes classifier"
   ]
  },
  {
   "cell_type": "code",
   "execution_count": null,
   "metadata": {},
   "outputs": [],
   "source": [
    "GNB = GaussianNB()\n",
    "\n",
    "GNB_grid={\"var_smoothing\":np.logspace(0,-9, num=100)}"
   ]
  },
  {
   "cell_type": "code",
   "execution_count": null,
   "metadata": {},
   "outputs": [],
   "source": [
    "clasification(GNB,GNB_grid,iris_x_scaled,iris_y)"
   ]
  },
  {
   "cell_type": "markdown",
   "metadata": {},
   "source": [
    "## Support vector machine"
   ]
  },
  {
   "cell_type": "code",
   "execution_count": null,
   "metadata": {},
   "outputs": [],
   "source": [
    "s_v_c=SVC()\n",
    "\n",
    "SVC_grid={\"C\":[0.01, 0.1, 1, 10, 100, 1000],\n",
    "          \"kernel\":[\"linear\",\"poly\",\"rbf\",\"sigmoid\"],\n",
    "          \"gamma\":[1, 0.1, 0.01, 0.001, 0.0001]}\n"
   ]
  },
  {
   "cell_type": "code",
   "execution_count": null,
   "metadata": {},
   "outputs": [],
   "source": [
    "clasification(s_v_c,SVC_grid,iris_x_scaled,iris_y)"
   ]
  },
  {
   "cell_type": "markdown",
   "metadata": {},
   "source": [
    "## Logistic regression"
   ]
  },
  {
   "cell_type": "code",
   "execution_count": null,
   "metadata": {},
   "outputs": [],
   "source": [
    "LR=LogisticRegression()\n",
    "\n",
    "LR_grid = {\"solver\": ['newton-cg', 'lbfgs', 'liblinear'],\n",
    "           \"penalty\": ['l2'],\n",
    "           \"C\":[100, 10, 1.0, 0.1, 0.01]}"
   ]
  },
  {
   "cell_type": "code",
   "execution_count": null,
   "metadata": {},
   "outputs": [],
   "source": [
    "clasification(LR,LR_grid,iris_x_scaled,iris_y)"
   ]
  },
  {
   "cell_type": "markdown",
   "metadata": {},
   "source": [
    "## Random forests"
   ]
  },
  {
   "cell_type": "code",
   "execution_count": 16,
   "metadata": {},
   "outputs": [],
   "source": [
    "RF=RandomForestClassifier()\n",
    "\n",
    "RF_grid={'criterion' :['gini', 'entropy'],\n",
    "         'max_depth' : [4,6,8],\n",
    "         'n_estimators': [200,500]}"
   ]
  },
  {
   "cell_type": "code",
   "execution_count": 17,
   "metadata": {},
   "outputs": [
    {
     "name": "stdout",
     "output_type": "stream",
     "text": [
      "Best: 0.946667 using {'criterion': 'gini', 'max_depth': 4, 'n_estimators': 200} and Execution time is : 17.017982\n",
      "Best: 0.960000 using {'criterion': 'gini', 'max_depth': 4, 'n_estimators': 200} and Execution time is : 15.839628\n",
      "Best: 0.960000 using {'criterion': 'gini', 'max_depth': 4, 'n_estimators': 500} and Execution time is : 15.313038\n",
      "Best: 0.966667 using {'criterion': 'gini', 'max_depth': 4, 'n_estimators': 200} and Execution time is : 14.468299\n",
      "Best: 0.960000 using {'criterion': 'gini', 'max_depth': 8, 'n_estimators': 200} and Execution time is : 14.436383\n",
      "Best: 0.946667 using {'criterion': 'entropy', 'max_depth': 4, 'n_estimators': 200} and Execution time is : 14.054398\n",
      "Best: 0.966667 using {'criterion': 'entropy', 'max_depth': 4, 'n_estimators': 200} and Execution time is : 13.738299\n",
      "Best: 0.960000 using {'criterion': 'gini', 'max_depth': 8, 'n_estimators': 500} and Execution time is : 14.495225\n",
      "Best: 0.960000 using {'criterion': 'gini', 'max_depth': 4, 'n_estimators': 200} and Execution time is : 14.378537\n",
      "Best: 0.960000 using {'criterion': 'gini', 'max_depth': 4, 'n_estimators': 200} and Execution time is : 14.151146\n"
     ]
    },
    {
     "ename": "NameError",
     "evalue": "name 'LDA' is not defined",
     "output_type": "error",
     "traceback": [
      "\u001b[1;31m---------------------------------------------------------------------------\u001b[0m",
      "\u001b[1;31mNameError\u001b[0m                                 Traceback (most recent call last)",
      "\u001b[1;32m~\\AppData\\Local\\Temp/ipykernel_5188/326975442.py\u001b[0m in \u001b[0;36m<module>\u001b[1;34m\u001b[0m\n\u001b[1;32m----> 1\u001b[1;33m \u001b[0mclasification\u001b[0m\u001b[1;33m(\u001b[0m\u001b[0mRF\u001b[0m\u001b[1;33m,\u001b[0m\u001b[0mRF_grid\u001b[0m\u001b[1;33m,\u001b[0m\u001b[0miris_x_scaled\u001b[0m\u001b[1;33m,\u001b[0m\u001b[0miris_y\u001b[0m\u001b[1;33m)\u001b[0m\u001b[1;33m\u001b[0m\u001b[1;33m\u001b[0m\u001b[0m\n\u001b[0m",
      "\u001b[1;32m~\\AppData\\Local\\Temp/ipykernel_5188/2678510212.py\u001b[0m in \u001b[0;36mclasification\u001b[1;34m(model, parameters, x, y)\u001b[0m\n\u001b[0;32m     26\u001b[0m     \u001b[1;32mif\u001b[0m \u001b[0mmodel\u001b[0m \u001b[1;33m==\u001b[0m \u001b[0mKNC\u001b[0m\u001b[1;33m:\u001b[0m\u001b[1;33m\u001b[0m\u001b[1;33m\u001b[0m\u001b[0m\n\u001b[0;32m     27\u001b[0m         \u001b[0mclassification_df\u001b[0m\u001b[1;33m.\u001b[0m\u001b[0mto_csv\u001b[0m\u001b[1;33m(\u001b[0m\u001b[1;34m\"Iris_KNC.csv\"\u001b[0m\u001b[1;33m)\u001b[0m\u001b[1;33m\u001b[0m\u001b[1;33m\u001b[0m\u001b[0m\n\u001b[1;32m---> 28\u001b[1;33m     \u001b[1;32melif\u001b[0m \u001b[0mmodel\u001b[0m \u001b[1;33m==\u001b[0m \u001b[0mLDA\u001b[0m\u001b[1;33m:\u001b[0m\u001b[1;33m\u001b[0m\u001b[1;33m\u001b[0m\u001b[0m\n\u001b[0m\u001b[0;32m     29\u001b[0m         \u001b[0mclassification_df\u001b[0m\u001b[1;33m.\u001b[0m\u001b[0mto_csv\u001b[0m\u001b[1;33m(\u001b[0m\u001b[1;34m\"Iris_LDA.csv\"\u001b[0m\u001b[1;33m)\u001b[0m\u001b[1;33m\u001b[0m\u001b[1;33m\u001b[0m\u001b[0m\n\u001b[0;32m     30\u001b[0m     \u001b[1;32melif\u001b[0m \u001b[0mmodel\u001b[0m \u001b[1;33m==\u001b[0m \u001b[0mGNB\u001b[0m\u001b[1;33m:\u001b[0m\u001b[1;33m\u001b[0m\u001b[1;33m\u001b[0m\u001b[0m\n",
      "\u001b[1;31mNameError\u001b[0m: name 'LDA' is not defined"
     ]
    }
   ],
   "source": [
    "clasification(RF,RF_grid,iris_x_scaled,iris_y)"
   ]
  },
  {
   "cell_type": "code",
   "execution_count": null,
   "metadata": {},
   "outputs": [],
   "source": [
    "'max_features': ['auto', 'sqrt', 'log2'],"
   ]
  },
  {
   "cell_type": "code",
   "execution_count": null,
   "metadata": {},
   "outputs": [],
   "source": []
  },
  {
   "cell_type": "code",
   "execution_count": null,
   "metadata": {},
   "outputs": [],
   "source": []
  },
  {
   "cell_type": "code",
   "execution_count": null,
   "metadata": {},
   "outputs": [],
   "source": []
  },
  {
   "cell_type": "code",
   "execution_count": null,
   "metadata": {},
   "outputs": [],
   "source": []
  },
  {
   "cell_type": "code",
   "execution_count": null,
   "metadata": {},
   "outputs": [],
   "source": []
  },
  {
   "cell_type": "code",
   "execution_count": null,
   "metadata": {},
   "outputs": [],
   "source": [
    "# def clasification(model,parameters,x,y):\n",
    "#     for i in range(1,10):\n",
    "#         cv_inner = KFold(n_splits=5, shuffle=True, random_state=i)\n",
    "#         score = ['accuracy' ,'f1_macro']\n",
    "\n",
    "#         grid_search = GridSearchCV(model, parameters, scoring=score, refit=\"accuracy\", error_score=0)\n",
    "#         grid_result = grid_search.fit(x,y)\n",
    "#         print(\"Best: %f using %s\" % (grid_result.best_score_, grid_result.best_params_))\n",
    "\n",
    "#         params = grid_result.cv_results_['params']\n",
    "#         f1_score = grid_result.cv_results_['mean_test_f1_macro']\n",
    "\n",
    "#     knc_df=pd.DataFrame({\"Parameters\":[],\n",
    "#                          \"f1_score\":[]})\n",
    "\n",
    "#     for x,y in zip(params,f1_score):\n",
    "#         knc_df=knc_df.append({\"Parameters\":x,\n",
    "#                               \"f1_score\":y},ignore_index = True)\n",
    "        \n",
    "#     return knc_df\n",
    "    "
   ]
  },
  {
   "cell_type": "code",
   "execution_count": null,
   "metadata": {},
   "outputs": [],
   "source": [
    "KNC = KNeighborsClassifier(n_jobs=-1)\n",
    "\n",
    "n_neighbors = range(1, 21)\n",
    "weights = ['uniform', 'distance']\n",
    "metric = ['euclidean', 'manhattan', 'minkowski']\n",
    "KNC_grid = dict(n_neighbors=n_neighbors,weights=weights,metric=metric)\n",
    "\n"
   ]
  },
  {
   "cell_type": "code",
   "execution_count": null,
   "metadata": {},
   "outputs": [],
   "source": [
    "def clasification(model,parameters,x,y):\n",
    "    cv_inner = KFold(n_splits=5, shuffle=True, random_state=1)\n",
    "    score = ['accuracy' ,'f1_macro']\n",
    "\n",
    "    grid_search = GridSearchCV(model, parameters, scoring=score, refit=\"accuracy\", error_score=0)\n",
    "    grid_result = grid_search.fit(x,y)\n",
    "    print(\"Best: %f using %s\" % (grid_result.best_score_, grid_result.best_params_))\n",
    "\n",
    "    params = grid_result.cv_results_['params']\n",
    "    f1_score = grid_result.cv_results_['mean_test_f1_macro']\n",
    "\n",
    "    knc_df=pd.DataFrame({\"Parameters\":[],\n",
    "                         \"f1_score\":[]})\n",
    "\n",
    "    for x,y in zip(params,f1_score):\n",
    "        knc_df=knc_df.append({\"Parameters\":x,\n",
    "                              \"f1_score\":y},ignore_index = True)\n",
    "        \n",
    "    return knc_df"
   ]
  },
  {
   "cell_type": "code",
   "execution_count": null,
   "metadata": {},
   "outputs": [],
   "source": [
    "clasification(LDA,LDA_grid,iris_x_scaled,iris_y)"
   ]
  },
  {
   "cell_type": "code",
   "execution_count": null,
   "metadata": {},
   "outputs": [],
   "source": []
  },
  {
   "cell_type": "code",
   "execution_count": null,
   "metadata": {},
   "outputs": [],
   "source": [
    "model = GaussianNB()\n",
    "\n",
    "priors=range(1,5)\n",
    "var_smoothing= np.logspace(0,-9, num=100)\n",
    "parameters=dict(var_smoothing=var_smoothing)\n",
    "\n",
    "cv_inner = KFold(n_splits=5, shuffle=True, random_state=1)\n",
    "score = ['accuracy' ,'f1_macro']\n",
    "\n",
    "grid_search = GridSearchCV(model, parameters, scoring=score, refit=\"accuracy\", error_score=0)\n",
    "grid_result = grid_search.fit(iris_x_scaled,iris_y)\n",
    "print(\"Best: %f using %s\" % (grid_result.best_score_, grid_result.best_params_))\n",
    "\n",
    "params = grid_result.cv_results_['params']\n",
    "f1_score = grid_result.cv_results_['mean_test_f1_macro']\n",
    "\n",
    "knc_df=pd.DataFrame({\"Parameters\":[],\n",
    "                         \"f1_score\":[]})\n",
    "\n",
    "for x,y in zip(params,f1_score):\n",
    "    knc_df=knc_df.append({\"Parameters\":x,\n",
    "                          \"f1_score\":y},ignore_index = True)\n",
    "\n",
    "knc_df\n"
   ]
  },
  {
   "cell_type": "code",
   "execution_count": null,
   "metadata": {},
   "outputs": [],
   "source": []
  },
  {
   "cell_type": "code",
   "execution_count": null,
   "metadata": {},
   "outputs": [],
   "source": [
    "wine = openml.datasets.get_dataset(\"wine\")\n",
    "wine_df, wine_label, categorical_indicator, attribute_names = wine.get_data(\n",
    "    target= wine.default_target_attribute, dataset_format=\"dataframe\"\n",
    ")\n",
    "wine_df[\"class\"]=wine_label\n",
    "wine_x=wine_df.iloc[:,:13]\n",
    "wine_df"
   ]
  }
 ],
 "metadata": {
  "kernelspec": {
   "display_name": "Python 3 (ipykernel)",
   "language": "python",
   "name": "python3"
  },
  "language_info": {
   "codemirror_mode": {
    "name": "ipython",
    "version": 3
   },
   "file_extension": ".py",
   "mimetype": "text/x-python",
   "name": "python",
   "nbconvert_exporter": "python",
   "pygments_lexer": "ipython3",
   "version": "3.9.6"
  }
 },
 "nbformat": 4,
 "nbformat_minor": 1
}
