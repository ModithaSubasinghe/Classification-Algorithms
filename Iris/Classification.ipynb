{
 "cells": [
  {
   "cell_type": "code",
   "execution_count": 1,
   "metadata": {},
   "outputs": [],
   "source": [
    "import pandas as pd\n",
    "import numpy as np\n",
    "import openml\n",
    "from sklearn.preprocessing import MinMaxScaler,LabelEncoder \n",
    "from sklearn.neighbors import KNeighborsClassifier\n",
    "from sklearn.discriminant_analysis import LinearDiscriminantAnalysis\n",
    "from sklearn.naive_bayes import GaussianNB\n",
    "from sklearn.linear_model import LogisticRegression\n",
    "from sklearn.svm import SVC\n",
    "from sklearn.ensemble import RandomForestClassifier,AdaBoostClassifier,GradientBoostingClassifier\n",
    "from sklearn.model_selection import KFold,GridSearchCV\n",
    "from sklearn.metrics import f1_score, make_scorer\n",
    "import time\n",
    "from xgboost import XGBClassifier"
   ]
  },
  {
   "cell_type": "markdown",
   "metadata": {},
   "source": [
    "# Classification for Iris Dataset"
   ]
  },
  {
   "cell_type": "code",
   "execution_count": 2,
   "metadata": {},
   "outputs": [
    {
     "data": {
      "text/plain": "     sepallength  sepalwidth  petallength  petalwidth           class\n0            5.1         3.5          1.4         0.2     Iris-setosa\n1            4.9         3.0          1.4         0.2     Iris-setosa\n2            4.7         3.2          1.3         0.2     Iris-setosa\n3            4.6         3.1          1.5         0.2     Iris-setosa\n4            5.0         3.6          1.4         0.2     Iris-setosa\n..           ...         ...          ...         ...             ...\n145          6.7         3.0          5.2         2.3  Iris-virginica\n146          6.3         2.5          5.0         1.9  Iris-virginica\n147          6.5         3.0          5.2         2.0  Iris-virginica\n148          6.2         3.4          5.4         2.3  Iris-virginica\n149          5.9         3.0          5.1         1.8  Iris-virginica\n\n[150 rows x 5 columns]",
      "text/html": "<div>\n<style scoped>\n    .dataframe tbody tr th:only-of-type {\n        vertical-align: middle;\n    }\n\n    .dataframe tbody tr th {\n        vertical-align: top;\n    }\n\n    .dataframe thead th {\n        text-align: right;\n    }\n</style>\n<table border=\"1\" class=\"dataframe\">\n  <thead>\n    <tr style=\"text-align: right;\">\n      <th></th>\n      <th>sepallength</th>\n      <th>sepalwidth</th>\n      <th>petallength</th>\n      <th>petalwidth</th>\n      <th>class</th>\n    </tr>\n  </thead>\n  <tbody>\n    <tr>\n      <th>0</th>\n      <td>5.1</td>\n      <td>3.5</td>\n      <td>1.4</td>\n      <td>0.2</td>\n      <td>Iris-setosa</td>\n    </tr>\n    <tr>\n      <th>1</th>\n      <td>4.9</td>\n      <td>3.0</td>\n      <td>1.4</td>\n      <td>0.2</td>\n      <td>Iris-setosa</td>\n    </tr>\n    <tr>\n      <th>2</th>\n      <td>4.7</td>\n      <td>3.2</td>\n      <td>1.3</td>\n      <td>0.2</td>\n      <td>Iris-setosa</td>\n    </tr>\n    <tr>\n      <th>3</th>\n      <td>4.6</td>\n      <td>3.1</td>\n      <td>1.5</td>\n      <td>0.2</td>\n      <td>Iris-setosa</td>\n    </tr>\n    <tr>\n      <th>4</th>\n      <td>5.0</td>\n      <td>3.6</td>\n      <td>1.4</td>\n      <td>0.2</td>\n      <td>Iris-setosa</td>\n    </tr>\n    <tr>\n      <th>...</th>\n      <td>...</td>\n      <td>...</td>\n      <td>...</td>\n      <td>...</td>\n      <td>...</td>\n    </tr>\n    <tr>\n      <th>145</th>\n      <td>6.7</td>\n      <td>3.0</td>\n      <td>5.2</td>\n      <td>2.3</td>\n      <td>Iris-virginica</td>\n    </tr>\n    <tr>\n      <th>146</th>\n      <td>6.3</td>\n      <td>2.5</td>\n      <td>5.0</td>\n      <td>1.9</td>\n      <td>Iris-virginica</td>\n    </tr>\n    <tr>\n      <th>147</th>\n      <td>6.5</td>\n      <td>3.0</td>\n      <td>5.2</td>\n      <td>2.0</td>\n      <td>Iris-virginica</td>\n    </tr>\n    <tr>\n      <th>148</th>\n      <td>6.2</td>\n      <td>3.4</td>\n      <td>5.4</td>\n      <td>2.3</td>\n      <td>Iris-virginica</td>\n    </tr>\n    <tr>\n      <th>149</th>\n      <td>5.9</td>\n      <td>3.0</td>\n      <td>5.1</td>\n      <td>1.8</td>\n      <td>Iris-virginica</td>\n    </tr>\n  </tbody>\n</table>\n<p>150 rows × 5 columns</p>\n</div>"
     },
     "execution_count": 2,
     "metadata": {},
     "output_type": "execute_result"
    }
   ],
   "source": [
    "iris = openml.datasets.get_dataset(\"iris\")\n",
    "iris_df, iris_label, categorical_indicator, attribute_names = iris.get_data(\n",
    "    target=iris.default_target_attribute, dataset_format=\"dataframe\"\n",
    ")\n",
    "iris_df[\"class\"]=iris_label\n",
    "iris_x=iris_df.iloc[:,:4]\n",
    "iris_df"
   ]
  },
  {
   "cell_type": "code",
   "execution_count": 3,
   "metadata": {},
   "outputs": [
    {
     "name": "stdout",
     "output_type": "stream",
     "text": [
      "<class 'pandas.core.frame.DataFrame'>\n",
      "RangeIndex: 150 entries, 0 to 149\n",
      "Data columns (total 5 columns):\n",
      " #   Column       Non-Null Count  Dtype   \n",
      "---  ------       --------------  -----   \n",
      " 0   sepallength  150 non-null    float64 \n",
      " 1   sepalwidth   150 non-null    float64 \n",
      " 2   petallength  150 non-null    float64 \n",
      " 3   petalwidth   150 non-null    float64 \n",
      " 4   class        150 non-null    category\n",
      "dtypes: category(1), float64(4)\n",
      "memory usage: 5.1 KB\n"
     ]
    }
   ],
   "source": [
    "iris_df.info()"
   ]
  },
  {
   "cell_type": "code",
   "execution_count": 4,
   "metadata": {},
   "outputs": [
    {
     "data": {
      "text/plain": "Iris-setosa        50\nIris-versicolor    50\nIris-virginica     50\nName: class, dtype: int64"
     },
     "execution_count": 4,
     "metadata": {},
     "output_type": "execute_result"
    }
   ],
   "source": [
    "iris_df[\"class\"].value_counts()"
   ]
  },
  {
   "cell_type": "code",
   "execution_count": 5,
   "metadata": {},
   "outputs": [],
   "source": [
    "le=LabelEncoder()\n",
    "\n",
    "iris_y=le.fit_transform(iris_label)"
   ]
  },
  {
   "cell_type": "code",
   "execution_count": 6,
   "metadata": {},
   "outputs": [],
   "source": [
    "scaler = MinMaxScaler()\n",
    "\n",
    "iris_x_scaled=scaler.fit_transform(iris_x)"
   ]
  },
  {
   "cell_type": "code",
   "execution_count": 7,
   "metadata": {},
   "outputs": [],
   "source": [
    "def clasification(model,parameters,x,y):\n",
    "    \n",
    "    classification_df=pd.DataFrame({\"Model\":[],\n",
    "                                    \"Random State\":[],\n",
    "                                    \"Best Parameters\":[],\n",
    "                                    \"f1_Score\":[],\n",
    "                                    \"Execution Time\":[]})\n",
    "    \n",
    "    for i in range(1,11):\n",
    "        start_time = time.time()\n",
    "        cv_inner = KFold(n_splits=5, shuffle=True, random_state=i)\n",
    "        score = ['accuracy' ,'f1_macro']\n",
    "        grid_search = GridSearchCV(model, parameters, cv=cv_inner, scoring=score, refit='accuracy', n_jobs = -1)\n",
    "        grid_result = grid_search.fit(x,y)\n",
    "        y_predict = grid_result.predict(x)\n",
    "        f1score = f1_score(y,y_predict, average=\"weighted\")\n",
    "        execution_time = time.time() - start_time\n",
    "        classification_df=classification_df.append({\"Model\":model,\n",
    "                                                    \"Random State\":i,\n",
    "                                                    \"Best Parameters\":grid_result.best_params_,\n",
    "                                                    \"f1_Score\":f1score,\n",
    "                                                    \"Execution Time\":execution_time},ignore_index=True)\n",
    "         \n",
    "       \n",
    "    if model == knc:\n",
    "        classification_df.to_csv(\"Iris_KNC.csv\")\n",
    "    elif model == lda:\n",
    "        classification_df.to_csv(\"Iris_LDA.csv\")\n",
    "    elif model == gnb:\n",
    "        classification_df.to_csv(\"Iris_GNB.csv\")\n",
    "    elif model == svc:\n",
    "        classification_df.to_csv(\"Iris_SVC.csv\")\n",
    "    elif model == lr:\n",
    "        classification_df.to_csv(\"Iris_LR.csv\")\n",
    "    elif model == rfc:\n",
    "        classification_df.to_csv(\"Iris_RFC.csv\")\n",
    "    elif model== abc:\n",
    "        classification_df.to_csv(\"Iris_ABC.csv\")\n",
    "    elif model== gbc:\n",
    "        classification_df.to_csv(\"Iris_GBC.csv\")\n",
    "    elif model == xgbc:\n",
    "        classification_df.to_csv(\"Iris_XGBC.csv\")\n",
    "\n",
    "\n",
    "    return classification_df\n",
    "    "
   ]
  },
  {
   "cell_type": "markdown",
   "metadata": {},
   "source": [
    "## K-nearest neighbour classification"
   ]
  },
  {
   "cell_type": "code",
   "execution_count": 8,
   "metadata": {},
   "outputs": [],
   "source": [
    "knc = KNeighborsClassifier()\n",
    "\n",
    "knc_grid = {\"n_neighbors\":range(1, 21),\n",
    "           \"weights\":['uniform', 'distance'],\n",
    "           \"metric\":['manhattan','euclidean', 'minkowski']}"
   ]
  },
  {
   "cell_type": "code",
   "execution_count": 9,
   "metadata": {},
   "outputs": [
    {
     "data": {
      "text/plain": "                    Model  Random State  \\\n0  KNeighborsClassifier()           1.0   \n1  KNeighborsClassifier()           2.0   \n2  KNeighborsClassifier()           3.0   \n3  KNeighborsClassifier()           4.0   \n4  KNeighborsClassifier()           5.0   \n5  KNeighborsClassifier()           6.0   \n6  KNeighborsClassifier()           7.0   \n7  KNeighborsClassifier()           8.0   \n8  KNeighborsClassifier()           9.0   \n9  KNeighborsClassifier()          10.0   \n\n                                     Best Parameters  f1_Score  Execution Time  \n0  {'metric': 'euclidean', 'n_neighbors': 9, 'wei...  0.973323        7.239606  \n1  {'metric': 'euclidean', 'n_neighbors': 6, 'wei...  0.966637        1.281572  \n2  {'metric': 'euclidean', 'n_neighbors': 6, 'wei...  0.966637        1.879474  \n3  {'metric': 'euclidean', 'n_neighbors': 14, 'we...  0.966637        1.179172  \n4  {'metric': 'euclidean', 'n_neighbors': 14, 'we...  0.966637        1.284752  \n5  {'metric': 'euclidean', 'n_neighbors': 5, 'wei...  0.959984        1.306829  \n6  {'metric': 'euclidean', 'n_neighbors': 2, 'wei...  0.973291        1.412450  \n7  {'metric': 'euclidean', 'n_neighbors': 6, 'wei...  0.966637        1.440559  \n8  {'metric': 'manhattan', 'n_neighbors': 18, 'we...  0.953329        1.098416  \n9  {'metric': 'euclidean', 'n_neighbors': 6, 'wei...  0.966637        0.918267  ",
      "text/html": "<div>\n<style scoped>\n    .dataframe tbody tr th:only-of-type {\n        vertical-align: middle;\n    }\n\n    .dataframe tbody tr th {\n        vertical-align: top;\n    }\n\n    .dataframe thead th {\n        text-align: right;\n    }\n</style>\n<table border=\"1\" class=\"dataframe\">\n  <thead>\n    <tr style=\"text-align: right;\">\n      <th></th>\n      <th>Model</th>\n      <th>Random State</th>\n      <th>Best Parameters</th>\n      <th>f1_Score</th>\n      <th>Execution Time</th>\n    </tr>\n  </thead>\n  <tbody>\n    <tr>\n      <th>0</th>\n      <td>KNeighborsClassifier()</td>\n      <td>1.0</td>\n      <td>{'metric': 'euclidean', 'n_neighbors': 9, 'wei...</td>\n      <td>0.973323</td>\n      <td>7.239606</td>\n    </tr>\n    <tr>\n      <th>1</th>\n      <td>KNeighborsClassifier()</td>\n      <td>2.0</td>\n      <td>{'metric': 'euclidean', 'n_neighbors': 6, 'wei...</td>\n      <td>0.966637</td>\n      <td>1.281572</td>\n    </tr>\n    <tr>\n      <th>2</th>\n      <td>KNeighborsClassifier()</td>\n      <td>3.0</td>\n      <td>{'metric': 'euclidean', 'n_neighbors': 6, 'wei...</td>\n      <td>0.966637</td>\n      <td>1.879474</td>\n    </tr>\n    <tr>\n      <th>3</th>\n      <td>KNeighborsClassifier()</td>\n      <td>4.0</td>\n      <td>{'metric': 'euclidean', 'n_neighbors': 14, 'we...</td>\n      <td>0.966637</td>\n      <td>1.179172</td>\n    </tr>\n    <tr>\n      <th>4</th>\n      <td>KNeighborsClassifier()</td>\n      <td>5.0</td>\n      <td>{'metric': 'euclidean', 'n_neighbors': 14, 'we...</td>\n      <td>0.966637</td>\n      <td>1.284752</td>\n    </tr>\n    <tr>\n      <th>5</th>\n      <td>KNeighborsClassifier()</td>\n      <td>6.0</td>\n      <td>{'metric': 'euclidean', 'n_neighbors': 5, 'wei...</td>\n      <td>0.959984</td>\n      <td>1.306829</td>\n    </tr>\n    <tr>\n      <th>6</th>\n      <td>KNeighborsClassifier()</td>\n      <td>7.0</td>\n      <td>{'metric': 'euclidean', 'n_neighbors': 2, 'wei...</td>\n      <td>0.973291</td>\n      <td>1.412450</td>\n    </tr>\n    <tr>\n      <th>7</th>\n      <td>KNeighborsClassifier()</td>\n      <td>8.0</td>\n      <td>{'metric': 'euclidean', 'n_neighbors': 6, 'wei...</td>\n      <td>0.966637</td>\n      <td>1.440559</td>\n    </tr>\n    <tr>\n      <th>8</th>\n      <td>KNeighborsClassifier()</td>\n      <td>9.0</td>\n      <td>{'metric': 'manhattan', 'n_neighbors': 18, 'we...</td>\n      <td>0.953329</td>\n      <td>1.098416</td>\n    </tr>\n    <tr>\n      <th>9</th>\n      <td>KNeighborsClassifier()</td>\n      <td>10.0</td>\n      <td>{'metric': 'euclidean', 'n_neighbors': 6, 'wei...</td>\n      <td>0.966637</td>\n      <td>0.918267</td>\n    </tr>\n  </tbody>\n</table>\n</div>"
     },
     "execution_count": 9,
     "metadata": {},
     "output_type": "execute_result"
    }
   ],
   "source": [
    "clasification(knc,knc_grid,iris_x_scaled,iris_y)"
   ]
  },
  {
   "cell_type": "markdown",
   "metadata": {},
   "source": [
    "## Linear discriminant analysis "
   ]
  },
  {
   "cell_type": "code",
   "execution_count": 10,
   "metadata": {},
   "outputs": [],
   "source": [
    "lda = LinearDiscriminantAnalysis()\n",
    "\n",
    "lda_grid = {\"n_components\": list(range(1,3,1)),\n",
    "           \"solver\":['lsqr','eigen','svd']}"
   ]
  },
  {
   "cell_type": "code",
   "execution_count": 11,
   "metadata": {
    "scrolled": true
   },
   "outputs": [
    {
     "data": {
      "text/plain": "                          Model  Random State  \\\n0  LinearDiscriminantAnalysis()           1.0   \n1  LinearDiscriminantAnalysis()           2.0   \n2  LinearDiscriminantAnalysis()           3.0   \n3  LinearDiscriminantAnalysis()           4.0   \n4  LinearDiscriminantAnalysis()           5.0   \n5  LinearDiscriminantAnalysis()           6.0   \n6  LinearDiscriminantAnalysis()           7.0   \n7  LinearDiscriminantAnalysis()           8.0   \n8  LinearDiscriminantAnalysis()           9.0   \n9  LinearDiscriminantAnalysis()          10.0   \n\n                         Best Parameters  f1_Score  Execution Time  \n0  {'n_components': 1, 'solver': 'lsqr'}  0.979998        0.084542  \n1  {'n_components': 1, 'solver': 'lsqr'}  0.979998        0.102150  \n2  {'n_components': 1, 'solver': 'lsqr'}  0.979998        0.082780  \n3  {'n_components': 1, 'solver': 'lsqr'}  0.979998        0.066821  \n4  {'n_components': 1, 'solver': 'lsqr'}  0.979998        0.064826  \n5  {'n_components': 1, 'solver': 'lsqr'}  0.979998        0.062486  \n6  {'n_components': 1, 'solver': 'lsqr'}  0.979998        0.062488  \n7  {'n_components': 1, 'solver': 'lsqr'}  0.979998        0.062483  \n8  {'n_components': 1, 'solver': 'lsqr'}  0.979998        0.062486  \n9  {'n_components': 1, 'solver': 'lsqr'}  0.979998        0.046867  ",
      "text/html": "<div>\n<style scoped>\n    .dataframe tbody tr th:only-of-type {\n        vertical-align: middle;\n    }\n\n    .dataframe tbody tr th {\n        vertical-align: top;\n    }\n\n    .dataframe thead th {\n        text-align: right;\n    }\n</style>\n<table border=\"1\" class=\"dataframe\">\n  <thead>\n    <tr style=\"text-align: right;\">\n      <th></th>\n      <th>Model</th>\n      <th>Random State</th>\n      <th>Best Parameters</th>\n      <th>f1_Score</th>\n      <th>Execution Time</th>\n    </tr>\n  </thead>\n  <tbody>\n    <tr>\n      <th>0</th>\n      <td>LinearDiscriminantAnalysis()</td>\n      <td>1.0</td>\n      <td>{'n_components': 1, 'solver': 'lsqr'}</td>\n      <td>0.979998</td>\n      <td>0.084542</td>\n    </tr>\n    <tr>\n      <th>1</th>\n      <td>LinearDiscriminantAnalysis()</td>\n      <td>2.0</td>\n      <td>{'n_components': 1, 'solver': 'lsqr'}</td>\n      <td>0.979998</td>\n      <td>0.102150</td>\n    </tr>\n    <tr>\n      <th>2</th>\n      <td>LinearDiscriminantAnalysis()</td>\n      <td>3.0</td>\n      <td>{'n_components': 1, 'solver': 'lsqr'}</td>\n      <td>0.979998</td>\n      <td>0.082780</td>\n    </tr>\n    <tr>\n      <th>3</th>\n      <td>LinearDiscriminantAnalysis()</td>\n      <td>4.0</td>\n      <td>{'n_components': 1, 'solver': 'lsqr'}</td>\n      <td>0.979998</td>\n      <td>0.066821</td>\n    </tr>\n    <tr>\n      <th>4</th>\n      <td>LinearDiscriminantAnalysis()</td>\n      <td>5.0</td>\n      <td>{'n_components': 1, 'solver': 'lsqr'}</td>\n      <td>0.979998</td>\n      <td>0.064826</td>\n    </tr>\n    <tr>\n      <th>5</th>\n      <td>LinearDiscriminantAnalysis()</td>\n      <td>6.0</td>\n      <td>{'n_components': 1, 'solver': 'lsqr'}</td>\n      <td>0.979998</td>\n      <td>0.062486</td>\n    </tr>\n    <tr>\n      <th>6</th>\n      <td>LinearDiscriminantAnalysis()</td>\n      <td>7.0</td>\n      <td>{'n_components': 1, 'solver': 'lsqr'}</td>\n      <td>0.979998</td>\n      <td>0.062488</td>\n    </tr>\n    <tr>\n      <th>7</th>\n      <td>LinearDiscriminantAnalysis()</td>\n      <td>8.0</td>\n      <td>{'n_components': 1, 'solver': 'lsqr'}</td>\n      <td>0.979998</td>\n      <td>0.062483</td>\n    </tr>\n    <tr>\n      <th>8</th>\n      <td>LinearDiscriminantAnalysis()</td>\n      <td>9.0</td>\n      <td>{'n_components': 1, 'solver': 'lsqr'}</td>\n      <td>0.979998</td>\n      <td>0.062486</td>\n    </tr>\n    <tr>\n      <th>9</th>\n      <td>LinearDiscriminantAnalysis()</td>\n      <td>10.0</td>\n      <td>{'n_components': 1, 'solver': 'lsqr'}</td>\n      <td>0.979998</td>\n      <td>0.046867</td>\n    </tr>\n  </tbody>\n</table>\n</div>"
     },
     "execution_count": 11,
     "metadata": {},
     "output_type": "execute_result"
    }
   ],
   "source": [
    "clasification(lda,lda_grid,iris_x_scaled,iris_y)"
   ]
  },
  {
   "cell_type": "markdown",
   "metadata": {},
   "source": [
    "## Naïve Bayes classifier"
   ]
  },
  {
   "cell_type": "code",
   "execution_count": 12,
   "metadata": {},
   "outputs": [],
   "source": [
    "gnb = GaussianNB()\n",
    "\n",
    "gnb_grid={\"var_smoothing\":np.logspace(0,-9, num=100)}"
   ]
  },
  {
   "cell_type": "code",
   "execution_count": 13,
   "metadata": {},
   "outputs": [
    {
     "data": {
      "text/plain": "          Model  Random State                         Best Parameters  \\\n0  GaussianNB()           1.0  {'var_smoothing': 0.04328761281083057}   \n1  GaussianNB()           2.0   {'var_smoothing': 0.0657933224657568}   \n2  GaussianNB()           3.0  {'var_smoothing': 0.02848035868435802}   \n3  GaussianNB()           4.0   {'var_smoothing': 0.2848035868435802}   \n4  GaussianNB()           5.0   {'var_smoothing': 0.2848035868435802}   \n5  GaussianNB()           6.0  {'var_smoothing': 0.23101297000831597}   \n6  GaussianNB()           7.0  {'var_smoothing': 0.15199110829529336}   \n7  GaussianNB()           8.0   {'var_smoothing': 0.1873817422860384}   \n8  GaussianNB()           9.0   {'var_smoothing': 0.1873817422860384}   \n9  GaussianNB()          10.0   {'var_smoothing': 0.1873817422860384}   \n\n   f1_Score  Execution Time  \n0  0.953329        0.574519  \n1  0.953329        0.546748  \n2  0.953329        0.671715  \n3  0.953329        0.574909  \n4  0.953329        0.577989  \n5  0.953329        0.542749  \n6  0.953329        0.586518  \n7  0.953329        0.520804  \n8  0.953329        0.546748  \n9  0.953329        0.546746  ",
      "text/html": "<div>\n<style scoped>\n    .dataframe tbody tr th:only-of-type {\n        vertical-align: middle;\n    }\n\n    .dataframe tbody tr th {\n        vertical-align: top;\n    }\n\n    .dataframe thead th {\n        text-align: right;\n    }\n</style>\n<table border=\"1\" class=\"dataframe\">\n  <thead>\n    <tr style=\"text-align: right;\">\n      <th></th>\n      <th>Model</th>\n      <th>Random State</th>\n      <th>Best Parameters</th>\n      <th>f1_Score</th>\n      <th>Execution Time</th>\n    </tr>\n  </thead>\n  <tbody>\n    <tr>\n      <th>0</th>\n      <td>GaussianNB()</td>\n      <td>1.0</td>\n      <td>{'var_smoothing': 0.04328761281083057}</td>\n      <td>0.953329</td>\n      <td>0.574519</td>\n    </tr>\n    <tr>\n      <th>1</th>\n      <td>GaussianNB()</td>\n      <td>2.0</td>\n      <td>{'var_smoothing': 0.0657933224657568}</td>\n      <td>0.953329</td>\n      <td>0.546748</td>\n    </tr>\n    <tr>\n      <th>2</th>\n      <td>GaussianNB()</td>\n      <td>3.0</td>\n      <td>{'var_smoothing': 0.02848035868435802}</td>\n      <td>0.953329</td>\n      <td>0.671715</td>\n    </tr>\n    <tr>\n      <th>3</th>\n      <td>GaussianNB()</td>\n      <td>4.0</td>\n      <td>{'var_smoothing': 0.2848035868435802}</td>\n      <td>0.953329</td>\n      <td>0.574909</td>\n    </tr>\n    <tr>\n      <th>4</th>\n      <td>GaussianNB()</td>\n      <td>5.0</td>\n      <td>{'var_smoothing': 0.2848035868435802}</td>\n      <td>0.953329</td>\n      <td>0.577989</td>\n    </tr>\n    <tr>\n      <th>5</th>\n      <td>GaussianNB()</td>\n      <td>6.0</td>\n      <td>{'var_smoothing': 0.23101297000831597}</td>\n      <td>0.953329</td>\n      <td>0.542749</td>\n    </tr>\n    <tr>\n      <th>6</th>\n      <td>GaussianNB()</td>\n      <td>7.0</td>\n      <td>{'var_smoothing': 0.15199110829529336}</td>\n      <td>0.953329</td>\n      <td>0.586518</td>\n    </tr>\n    <tr>\n      <th>7</th>\n      <td>GaussianNB()</td>\n      <td>8.0</td>\n      <td>{'var_smoothing': 0.1873817422860384}</td>\n      <td>0.953329</td>\n      <td>0.520804</td>\n    </tr>\n    <tr>\n      <th>8</th>\n      <td>GaussianNB()</td>\n      <td>9.0</td>\n      <td>{'var_smoothing': 0.1873817422860384}</td>\n      <td>0.953329</td>\n      <td>0.546748</td>\n    </tr>\n    <tr>\n      <th>9</th>\n      <td>GaussianNB()</td>\n      <td>10.0</td>\n      <td>{'var_smoothing': 0.1873817422860384}</td>\n      <td>0.953329</td>\n      <td>0.546746</td>\n    </tr>\n  </tbody>\n</table>\n</div>"
     },
     "execution_count": 13,
     "metadata": {},
     "output_type": "execute_result"
    }
   ],
   "source": [
    "clasification(gnb,gnb_grid,iris_x_scaled,iris_y)"
   ]
  },
  {
   "cell_type": "markdown",
   "metadata": {},
   "source": [
    "## Support vector machine"
   ]
  },
  {
   "cell_type": "code",
   "execution_count": 14,
   "metadata": {},
   "outputs": [],
   "source": [
    "svc=SVC()\n",
    "\n",
    "svc_grid={\"C\":[0.01, 0.1, 1, 10, 100, 1000],\n",
    "          \"kernel\":[\"linear\",\"poly\",\"rbf\",\"sigmoid\"],\n",
    "          \"gamma\":[1, 0.1, 0.01, 0.001, 0.0001]}\n"
   ]
  },
  {
   "cell_type": "code",
   "execution_count": 15,
   "metadata": {},
   "outputs": [
    {
     "data": {
      "text/plain": "   Model  Random State                                Best Parameters  \\\n0  SVC()           1.0         {'C': 10, 'gamma': 1, 'kernel': 'rbf'}   \n1  SVC()           2.0    {'C': 1000, 'gamma': 1, 'kernel': 'linear'}   \n2  SVC()           3.0    {'C': 1000, 'gamma': 0.01, 'kernel': 'rbf'}   \n3  SVC()           4.0  {'C': 100, 'gamma': 0.1, 'kernel': 'sigmoid'}   \n4  SVC()           5.0       {'C': 100, 'gamma': 1, 'kernel': 'poly'}   \n5  SVC()           6.0      {'C': 10, 'gamma': 1, 'kernel': 'linear'}   \n6  SVC()           7.0      {'C': 10, 'gamma': 1, 'kernel': 'linear'}   \n7  SVC()           8.0     {'C': 100, 'gamma': 1, 'kernel': 'linear'}   \n8  SVC()           9.0       {'C': 10, 'gamma': 0.1, 'kernel': 'rbf'}   \n9  SVC()          10.0    {'C': 1000, 'gamma': 1, 'kernel': 'linear'}   \n\n   f1_Score  Execution Time  \n0  0.966583        0.772361  \n1  0.979998        0.795285  \n2  0.966583        0.883401  \n3  0.973323        0.850518  \n4  0.979998        0.751438  \n5  0.973323        0.923613  \n6  0.973323        0.852626  \n7  0.973323        0.992487  \n8  0.973323        1.009298  \n9  0.979998        0.980828  ",
      "text/html": "<div>\n<style scoped>\n    .dataframe tbody tr th:only-of-type {\n        vertical-align: middle;\n    }\n\n    .dataframe tbody tr th {\n        vertical-align: top;\n    }\n\n    .dataframe thead th {\n        text-align: right;\n    }\n</style>\n<table border=\"1\" class=\"dataframe\">\n  <thead>\n    <tr style=\"text-align: right;\">\n      <th></th>\n      <th>Model</th>\n      <th>Random State</th>\n      <th>Best Parameters</th>\n      <th>f1_Score</th>\n      <th>Execution Time</th>\n    </tr>\n  </thead>\n  <tbody>\n    <tr>\n      <th>0</th>\n      <td>SVC()</td>\n      <td>1.0</td>\n      <td>{'C': 10, 'gamma': 1, 'kernel': 'rbf'}</td>\n      <td>0.966583</td>\n      <td>0.772361</td>\n    </tr>\n    <tr>\n      <th>1</th>\n      <td>SVC()</td>\n      <td>2.0</td>\n      <td>{'C': 1000, 'gamma': 1, 'kernel': 'linear'}</td>\n      <td>0.979998</td>\n      <td>0.795285</td>\n    </tr>\n    <tr>\n      <th>2</th>\n      <td>SVC()</td>\n      <td>3.0</td>\n      <td>{'C': 1000, 'gamma': 0.01, 'kernel': 'rbf'}</td>\n      <td>0.966583</td>\n      <td>0.883401</td>\n    </tr>\n    <tr>\n      <th>3</th>\n      <td>SVC()</td>\n      <td>4.0</td>\n      <td>{'C': 100, 'gamma': 0.1, 'kernel': 'sigmoid'}</td>\n      <td>0.973323</td>\n      <td>0.850518</td>\n    </tr>\n    <tr>\n      <th>4</th>\n      <td>SVC()</td>\n      <td>5.0</td>\n      <td>{'C': 100, 'gamma': 1, 'kernel': 'poly'}</td>\n      <td>0.979998</td>\n      <td>0.751438</td>\n    </tr>\n    <tr>\n      <th>5</th>\n      <td>SVC()</td>\n      <td>6.0</td>\n      <td>{'C': 10, 'gamma': 1, 'kernel': 'linear'}</td>\n      <td>0.973323</td>\n      <td>0.923613</td>\n    </tr>\n    <tr>\n      <th>6</th>\n      <td>SVC()</td>\n      <td>7.0</td>\n      <td>{'C': 10, 'gamma': 1, 'kernel': 'linear'}</td>\n      <td>0.973323</td>\n      <td>0.852626</td>\n    </tr>\n    <tr>\n      <th>7</th>\n      <td>SVC()</td>\n      <td>8.0</td>\n      <td>{'C': 100, 'gamma': 1, 'kernel': 'linear'}</td>\n      <td>0.973323</td>\n      <td>0.992487</td>\n    </tr>\n    <tr>\n      <th>8</th>\n      <td>SVC()</td>\n      <td>9.0</td>\n      <td>{'C': 10, 'gamma': 0.1, 'kernel': 'rbf'}</td>\n      <td>0.973323</td>\n      <td>1.009298</td>\n    </tr>\n    <tr>\n      <th>9</th>\n      <td>SVC()</td>\n      <td>10.0</td>\n      <td>{'C': 1000, 'gamma': 1, 'kernel': 'linear'}</td>\n      <td>0.979998</td>\n      <td>0.980828</td>\n    </tr>\n  </tbody>\n</table>\n</div>"
     },
     "execution_count": 15,
     "metadata": {},
     "output_type": "execute_result"
    }
   ],
   "source": [
    "clasification(svc,svc_grid,iris_x_scaled,iris_y)"
   ]
  },
  {
   "cell_type": "markdown",
   "metadata": {},
   "source": [
    "## Logistic regression"
   ]
  },
  {
   "cell_type": "code",
   "execution_count": 16,
   "metadata": {},
   "outputs": [],
   "source": [
    "lr=LogisticRegression()\n",
    "\n",
    "lr_grid = {\"solver\": ['newton-cg', 'lbfgs', 'liblinear'],\n",
    "           \"penalty\": ['l2'],\n",
    "           \"C\":[100, 10, 1.0, 0.1, 0.01]}"
   ]
  },
  {
   "cell_type": "code",
   "execution_count": 17,
   "metadata": {},
   "outputs": [
    {
     "data": {
      "text/plain": "                  Model  Random State  \\\n0  LogisticRegression()           1.0   \n1  LogisticRegression()           2.0   \n2  LogisticRegression()           3.0   \n3  LogisticRegression()           4.0   \n4  LogisticRegression()           5.0   \n5  LogisticRegression()           6.0   \n6  LogisticRegression()           7.0   \n7  LogisticRegression()           8.0   \n8  LogisticRegression()           9.0   \n9  LogisticRegression()          10.0   \n\n                                     Best Parameters  f1_Score  Execution Time  \n0  {'C': 100, 'penalty': 'l2', 'solver': 'newton-...  0.979998        0.355995  \n1  {'C': 100, 'penalty': 'l2', 'solver': 'libline...  0.960000        0.437394  \n2  {'C': 100, 'penalty': 'l2', 'solver': 'newton-...  0.979998        0.380656  \n3  {'C': 100, 'penalty': 'l2', 'solver': 'newton-...  0.979998        0.536361  \n4  {'C': 100, 'penalty': 'l2', 'solver': 'newton-...  0.979998        0.862696  \n5  {'C': 100, 'penalty': 'l2', 'solver': 'newton-...  0.979998        0.538051  \n6  {'C': 100, 'penalty': 'l2', 'solver': 'newton-...  0.979998        0.437398  \n7  {'C': 100, 'penalty': 'l2', 'solver': 'newton-...  0.979998        0.539035  \n8  {'C': 100, 'penalty': 'l2', 'solver': 'newton-...  0.979998        0.499882  \n9  {'C': 100, 'penalty': 'l2', 'solver': 'newton-...  0.979998        0.577987  ",
      "text/html": "<div>\n<style scoped>\n    .dataframe tbody tr th:only-of-type {\n        vertical-align: middle;\n    }\n\n    .dataframe tbody tr th {\n        vertical-align: top;\n    }\n\n    .dataframe thead th {\n        text-align: right;\n    }\n</style>\n<table border=\"1\" class=\"dataframe\">\n  <thead>\n    <tr style=\"text-align: right;\">\n      <th></th>\n      <th>Model</th>\n      <th>Random State</th>\n      <th>Best Parameters</th>\n      <th>f1_Score</th>\n      <th>Execution Time</th>\n    </tr>\n  </thead>\n  <tbody>\n    <tr>\n      <th>0</th>\n      <td>LogisticRegression()</td>\n      <td>1.0</td>\n      <td>{'C': 100, 'penalty': 'l2', 'solver': 'newton-...</td>\n      <td>0.979998</td>\n      <td>0.355995</td>\n    </tr>\n    <tr>\n      <th>1</th>\n      <td>LogisticRegression()</td>\n      <td>2.0</td>\n      <td>{'C': 100, 'penalty': 'l2', 'solver': 'libline...</td>\n      <td>0.960000</td>\n      <td>0.437394</td>\n    </tr>\n    <tr>\n      <th>2</th>\n      <td>LogisticRegression()</td>\n      <td>3.0</td>\n      <td>{'C': 100, 'penalty': 'l2', 'solver': 'newton-...</td>\n      <td>0.979998</td>\n      <td>0.380656</td>\n    </tr>\n    <tr>\n      <th>3</th>\n      <td>LogisticRegression()</td>\n      <td>4.0</td>\n      <td>{'C': 100, 'penalty': 'l2', 'solver': 'newton-...</td>\n      <td>0.979998</td>\n      <td>0.536361</td>\n    </tr>\n    <tr>\n      <th>4</th>\n      <td>LogisticRegression()</td>\n      <td>5.0</td>\n      <td>{'C': 100, 'penalty': 'l2', 'solver': 'newton-...</td>\n      <td>0.979998</td>\n      <td>0.862696</td>\n    </tr>\n    <tr>\n      <th>5</th>\n      <td>LogisticRegression()</td>\n      <td>6.0</td>\n      <td>{'C': 100, 'penalty': 'l2', 'solver': 'newton-...</td>\n      <td>0.979998</td>\n      <td>0.538051</td>\n    </tr>\n    <tr>\n      <th>6</th>\n      <td>LogisticRegression()</td>\n      <td>7.0</td>\n      <td>{'C': 100, 'penalty': 'l2', 'solver': 'newton-...</td>\n      <td>0.979998</td>\n      <td>0.437398</td>\n    </tr>\n    <tr>\n      <th>7</th>\n      <td>LogisticRegression()</td>\n      <td>8.0</td>\n      <td>{'C': 100, 'penalty': 'l2', 'solver': 'newton-...</td>\n      <td>0.979998</td>\n      <td>0.539035</td>\n    </tr>\n    <tr>\n      <th>8</th>\n      <td>LogisticRegression()</td>\n      <td>9.0</td>\n      <td>{'C': 100, 'penalty': 'l2', 'solver': 'newton-...</td>\n      <td>0.979998</td>\n      <td>0.499882</td>\n    </tr>\n    <tr>\n      <th>9</th>\n      <td>LogisticRegression()</td>\n      <td>10.0</td>\n      <td>{'C': 100, 'penalty': 'l2', 'solver': 'newton-...</td>\n      <td>0.979998</td>\n      <td>0.577987</td>\n    </tr>\n  </tbody>\n</table>\n</div>"
     },
     "execution_count": 17,
     "metadata": {},
     "output_type": "execute_result"
    }
   ],
   "source": [
    "clasification(lr,lr_grid,iris_x_scaled,iris_y)"
   ]
  },
  {
   "cell_type": "markdown",
   "metadata": {},
   "source": [
    "## Random forests"
   ]
  },
  {
   "cell_type": "code",
   "execution_count": 18,
   "metadata": {},
   "outputs": [],
   "source": [
    "rfc=RandomForestClassifier()\n",
    "\n",
    "rfc_grid={'criterion' :['gini', 'entropy'],\n",
    "         'max_depth' : [4,6,8],\n",
    "         'n_estimators': [100,200,300,400,500],\n",
    "         \"n_jobs\":[-1]}"
   ]
  },
  {
   "cell_type": "code",
   "execution_count": null,
   "metadata": {
    "pycharm": {
     "is_executing": true
    }
   },
   "outputs": [],
   "source": [
    "clasification(rfc,rfc_grid,iris_x_scaled,iris_y)"
   ]
  },
  {
   "cell_type": "markdown",
   "metadata": {},
   "source": [
    "## Ada boost"
   ]
  },
  {
   "cell_type": "code",
   "execution_count": null,
   "metadata": {
    "pycharm": {
     "is_executing": true
    }
   },
   "outputs": [],
   "source": [
    "abc=AdaBoostClassifier()\n",
    "\n",
    "abc_grid = {\"n_estimators\":[10, 50, 100, 500, 1000],\n",
    "           \"learning_rate\":np.arange(0.1, 2.1, 0.4)}"
   ]
  },
  {
   "cell_type": "code",
   "execution_count": null,
   "metadata": {
    "pycharm": {
     "is_executing": true
    }
   },
   "outputs": [],
   "source": [
    "clasification(abc,abc_grid,iris_x_scaled,iris_y)"
   ]
  },
  {
   "cell_type": "markdown",
   "metadata": {
    "pycharm": {
     "is_executing": true
    }
   },
   "source": [
    "## Gradiant boost"
   ]
  },
  {
   "cell_type": "code",
   "execution_count": null,
   "metadata": {
    "pycharm": {
     "is_executing": true
    }
   },
   "outputs": [],
   "source": [
    "gbc = GradientBoostingClassifier()\n",
    "\n",
    "gbc_grid = {\"n_estimators\":[10, 50, 100, 500, 1000],\n",
    "            \"max_depth\":[1,3,5,7,9],\n",
    "            \"learning_rate\":np.arange(0.1, 2.1, 0.4)}"
   ]
  },
  {
   "cell_type": "code",
   "execution_count": null,
   "metadata": {
    "pycharm": {
     "is_executing": true
    }
   },
   "outputs": [],
   "source": [
    "clasification(gbc,gbc_grid,iris_x_scaled,iris_y)"
   ]
  },
  {
   "cell_type": "markdown",
   "metadata": {},
   "source": [
    "## XGBoost"
   ]
  },
  {
   "cell_type": "code",
   "execution_count": null,
   "metadata": {
    "pycharm": {
     "is_executing": true
    }
   },
   "outputs": [],
   "source": [
    "xgbc = XGBClassifier()\n",
    "\n",
    "xgbc_grid = {\"max_depth\":range(1,10,2),\n",
    "            \"min_child_weight\":range(1,6,2),\n",
    "            \"learning_rate\":np.arange(0.1, 2.1, 0.4),\n",
    "            \"n_estimators\":[10, 50, 100, 500, 1000]}"
   ]
  },
  {
   "cell_type": "code",
   "execution_count": null,
   "metadata": {
    "pycharm": {
     "is_executing": true
    }
   },
   "outputs": [],
   "source": [
    "clasification(xgbc,xgbc_grid,iris_x_scaled,iris_y)"
   ]
  },
  {
   "cell_type": "code",
   "execution_count": null,
   "metadata": {
    "pycharm": {
     "is_executing": true
    }
   },
   "outputs": [],
   "source": []
  },
  {
   "cell_type": "code",
   "execution_count": null,
   "metadata": {
    "pycharm": {
     "is_executing": true
    }
   },
   "outputs": [],
   "source": [
    "# def clasification(model,parameters,x,y):\n",
    "#     for i in range(1,10):\n",
    "#         cv_inner = KFold(n_splits=5, shuffle=True, random_state=i)\n",
    "#         score = ['accuracy' ,'f1_macro']\n",
    "\n",
    "#         grid_search = GridSearchCV(model, parameters, scoring=score, refit=\"accuracy\", error_score=0)\n",
    "#         grid_result = grid_search.fit(x,y)\n",
    "#         print(\"Best: %f using %s\" % (grid_result.best_score_, grid_result.best_params_))\n",
    "\n",
    "#         params = grid_result.cv_results_['params']\n",
    "#         f1_score = grid_result.cv_results_['mean_test_f1_macro']\n",
    "\n",
    "#     knc_df=pd.DataFrame({\"Parameters\":[],\n",
    "#                          \"f1_score\":[]})\n",
    "\n",
    "#     for x,y in zip(params,f1_score):\n",
    "#         knc_df=knc_df.append({\"Parameters\":x,\n",
    "#                               \"f1_score\":y},ignore_index = True)\n",
    "        \n",
    "#     return knc_df\n",
    "    "
   ]
  },
  {
   "cell_type": "code",
   "execution_count": null,
   "metadata": {
    "pycharm": {
     "is_executing": true
    }
   },
   "outputs": [],
   "source": [
    "wine = openml.datasets.get_dataset(\"wine\")\n",
    "wine_df, wine_label, categorical_indicator, attribute_names = wine.get_data(\n",
    "    target= wine.default_target_attribute, dataset_format=\"dataframe\"\n",
    ")\n",
    "wine_df[\"class\"]=wine_label\n",
    "wine_x=wine_df.iloc[:,:13]\n",
    "wine_df"
   ]
  }
 ],
 "metadata": {
  "kernelspec": {
   "display_name": "Python 3 (ipykernel)",
   "language": "python",
   "name": "python3"
  },
  "language_info": {
   "codemirror_mode": {
    "name": "ipython",
    "version": 3
   },
   "file_extension": ".py",
   "mimetype": "text/x-python",
   "name": "python",
   "nbconvert_exporter": "python",
   "pygments_lexer": "ipython3",
   "version": "3.9.6"
  }
 },
 "nbformat": 4,
 "nbformat_minor": 1
}